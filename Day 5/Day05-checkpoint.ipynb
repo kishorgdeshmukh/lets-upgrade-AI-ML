{
 "cells": [
  {
   "cell_type": "markdown",
   "metadata": {},
   "source": [
    "__Question 1 :__\n",
    "\n",
    "Write a Python program to find the first 20 non-even prime natural numbers"
   ]
  },
  {
   "cell_type": "code",
   "execution_count": 1,
   "metadata": {},
   "outputs": [
    {
     "name": "stdout",
     "output_type": "stream",
     "text": [
      "Enter the numbers you want:20\n",
      "3\n",
      "5\n",
      "7\n",
      "11\n",
      "13\n",
      "17\n",
      "19\n",
      "23\n",
      "29\n",
      "31\n",
      "37\n",
      "41\n",
      "43\n",
      "47\n",
      "53\n",
      "59\n",
      "61\n",
      "67\n",
      "71\n",
      "73\n"
     ]
    }
   ],
   "source": [
    "a = int(input(\"Enter the numbers you want:\"))\n",
    "l = []\n",
    "for i in range(1,100):\n",
    "     if i>2 and len(l) <= a-1:   \n",
    "        for j in range(2,i):\n",
    "            if(i % j) == 0:\n",
    "                break\n",
    "        else:\n",
    "            l.append(i)\n",
    "for d in l:\n",
    "    print(d)"
   ]
  },
  {
   "cell_type": "markdown",
   "metadata": {},
   "source": [
    "__Question 2 :__\n",
    "\n",
    "Write a Python program to implement 15 functions of string.\n"
   ]
  },
  {
   "cell_type": "code",
   "execution_count": 29,
   "metadata": {},
   "outputs": [
    {
     "name": "stdout",
     "output_type": "stream",
     "text": [
      "I AM KISHOR\n",
      "i am kishor\n",
      "False\n",
      "True\n",
      "I am kishor\n",
      "i am Kishor\n",
      "2\n",
      "False\n",
      "False\n",
      "True\n",
      "i am kishor\n",
      "2\n",
      "True\n",
      "('i am kishor', '', '')\n",
      "I AM KISHOR\n"
     ]
    }
   ],
   "source": [
    "str=\"i am kishor\"\n",
    "print(str.upper())\n",
    "print(str.lower())\n",
    "print(str.isupper())\n",
    "print(str.islower())\n",
    "print(str.capitalize())\n",
    "print(str.replace(\"k\",\"K\"))\n",
    "print(str.index(\"a\"))\n",
    "print(str.isnumeric())\n",
    "print(str.isspace())\n",
    "print(str.isprintable())\n",
    "print(str.center(7))\n",
    "print(str.find(\"am\"))\n",
    "print(str.startswith('i'))\n",
    "print(str.partition(\"AM\"))\n",
    "print(str.swapcase())"
   ]
  },
  {
   "cell_type": "markdown",
   "metadata": {},
   "source": [
    "__Question 3:__\n",
    "\n",
    "Write a Python program to check if the given string is a Palindrome or Anagram or None of them.\n",
    "Display the message accordingly to the user."
   ]
  },
  {
   "cell_type": "code",
   "execution_count": 31,
   "metadata": {},
   "outputs": [
    {
     "name": "stdout",
     "output_type": "stream",
     "text": [
      "Enter any string: aur\n",
      "Enter any string: rua\n",
      "It is Angram but string 2 is not Palindrome\n"
     ]
    }
   ],
   "source": [
    "str2 = input(\"Enter any string: \")\n",
    "str3 = input(\"Enter any string: \")\n",
    "if((sorted(str2) == sorted(str3)) and (str2 == str2[::-1])):\n",
    "    print(\"It is Angram and  string 2 is Palindrome\")\n",
    "elif((sorted(str2) != sorted(str3)) and (str2 == str2[::-1])):\n",
    "    print(\"It is not Angram but string 2 isPalindrome\")\n",
    "elif((sorted(str2) == sorted(str3)) and (str2 != str2[::-1])):\n",
    "    print(\"It is Angram but string 2 is not Palindrome\")\n",
    "else:\n",
    "    print(\"It is Nothing\")"
   ]
  },
  {
   "cell_type": "markdown",
   "metadata": {},
   "source": [
    "__Question 4:__\n",
    "\n",
    "Write a Python's user defined function that removes all the additional characters from the string\n",
    "and converts it finally to lower case using built-in lower(). eg: If the string is \"Dr. Darshan Ingle\n",
    "@AI-ML Trainer\", then the output be \"drdarshaningleaimltrainer\""
   ]
  },
  {
   "cell_type": "code",
   "execution_count": 32,
   "metadata": {},
   "outputs": [
    {
     "name": "stdout",
     "output_type": "stream",
     "text": [
      "Enter any string: \"Dr. Darshan Ingle @AI-ML Trainer\n",
      "\"drdarshaningleaimltrainer\n"
     ]
    }
   ],
   "source": [
    "def removeaditional_char(str4):\n",
    "    additional_char = ['.','@','-','<','>','*','&','$','#','!','*','+','-',':','_','?','%',' ']\n",
    "    for i in additional_char:\n",
    "        str4 = str4.replace(i,\"\")\n",
    "    return str4.lower()\n",
    "\n",
    "print(removeaditional_char(input(\"Enter any string: \")))"
   ]
  },
  {
   "cell_type": "code",
   "execution_count": null,
   "metadata": {},
   "outputs": [],
   "source": []
  }
 ],
 "metadata": {
  "kernelspec": {
   "display_name": "Python 3",
   "language": "python",
   "name": "python3"
  },
  "language_info": {
   "codemirror_mode": {
    "name": "ipython",
    "version": 3
   },
   "file_extension": ".py",
   "mimetype": "text/x-python",
   "name": "python",
   "nbconvert_exporter": "python",
   "pygments_lexer": "ipython3",
   "version": "3.7.6"
  }
 },
 "nbformat": 4,
 "nbformat_minor": 4
}
