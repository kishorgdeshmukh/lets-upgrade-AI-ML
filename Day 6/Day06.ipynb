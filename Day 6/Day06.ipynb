{
 "cells": [
  {
   "cell_type": "markdown",
   "metadata": {},
   "source": [
    "__Question 1:__\n",
    "\n",
    "Assuming that we have some email addresses in the \"username@companyname.com\" format, please write program\n",
    "to print the company name of a given email address. Both user names and company names are composed of letters\n",
    "only.\n",
    "Input Format:\n",
    "The first line of the input contains an email address.\n",
    "Output Format:\n",
    "Print the company name in single line.\n",
    "Example;\n",
    "Input:\n",
    "john@google.com\n",
    "Output:\n",
    "google\n"
   ]
  },
  {
   "cell_type": "code",
   "execution_count": 3,
   "metadata": {},
   "outputs": [
    {
     "name": "stdout",
     "output_type": "stream",
     "text": [
      "Enter the Email Addresskishor@idea.com\n",
      "Output:\n",
      "idea"
     ]
    }
   ],
   "source": [
    "a = input(\"Enter the Email Address\")\n",
    "x = a.index(\"@\")\n",
    "print(\"Output:\")\n",
    "print(a[x+1:len(a)-4],end = \"\")"
   ]
  },
  {
   "cell_type": "markdown",
   "metadata": {},
   "source": [
    "__Question 2:__\n",
    "\n",
    "Write a program that accepts a comma-separated sequence of words as input and prints the words in a comma\n",
    "separated sequence after sorting them alphabetically.\n",
    "Input Format:\n",
    "The first line of input contains words separated by the comma.\n",
    "Output Format:\n",
    "Print the sorted words separated by the comma.\n",
    "Example:\n",
    "Input:\n",
    "without,hello,bag,world\n",
    "Output:\n",
    "bag,hello,without,world"
   ]
  },
  {
   "cell_type": "code",
   "execution_count": 23,
   "metadata": {},
   "outputs": [
    {
     "name": "stdout",
     "output_type": "stream",
     "text": [
      "enter words seperated by commasgcfgbc,jgfh,jfc,aec\n",
      "gcfgbc,jgfh,jfc,aec\n",
      "[',', ',', ',', 'a', 'b', 'c', 'c', 'c', 'c', 'e', 'f', 'f', 'f', 'g', 'g', 'g', 'h', 'j', 'j']\n"
     ]
    }
   ],
   "source": [
    "l=[]\n",
    "x = input(\"enter words seperated by commas\")\n",
    "print(x)\n",
    "x1 = sorted(x)\n",
    "print(x1)"
   ]
  },
  {
   "cell_type": "markdown",
   "metadata": {},
   "source": [
    "__Question 3:__\n",
    "\n",
    "Create your own Jupyter Notebook for Sets.\n",
    "Reference link: https://www.w3schools.com/python/python_sets.asp\n"
   ]
  },
  {
   "cell_type": "code",
   "execution_count": 25,
   "metadata": {},
   "outputs": [
    {
     "name": "stdout",
     "output_type": "stream",
     "text": [
      "{'pinapple', 'grapes', 'banana', 'apple'}\n"
     ]
    }
   ],
   "source": [
    "s = {\"apple\",\"banana\",\"grapes\",\"pinapple\"}\n",
    "print(s)"
   ]
  },
  {
   "cell_type": "code",
   "execution_count": 26,
   "metadata": {},
   "outputs": [
    {
     "name": "stdout",
     "output_type": "stream",
     "text": [
      "pinapple\n",
      "grapes\n",
      "banana\n",
      "apple\n"
     ]
    }
   ],
   "source": [
    "s = {\"apple\",\"banana\",\"grapes\",\"pinapple\"}\n",
    "for i in s:\n",
    "    print(i)"
   ]
  },
  {
   "cell_type": "code",
   "execution_count": 28,
   "metadata": {},
   "outputs": [
    {
     "name": "stdout",
     "output_type": "stream",
     "text": [
      "True\n"
     ]
    }
   ],
   "source": [
    "s = {\"apple\",\"banana\",\"grapes\",\"pinapple\"}\n",
    "\n",
    "print(\"grapes\" in s)"
   ]
  },
  {
   "cell_type": "code",
   "execution_count": 31,
   "metadata": {},
   "outputs": [
    {
     "data": {
      "text/plain": [
       "{'apple', 'banana', 'grapes', 'orange', 'pinapple'}"
      ]
     },
     "execution_count": 31,
     "metadata": {},
     "output_type": "execute_result"
    }
   ],
   "source": [
    "s = {\"apple\",\"banana\",\"grapes\",\"pinapple\"}\n",
    "s.add(\"orange\")\n",
    "s"
   ]
  },
  {
   "cell_type": "code",
   "execution_count": 33,
   "metadata": {},
   "outputs": [
    {
     "name": "stdout",
     "output_type": "stream",
     "text": [
      "{'grapes', 'chicku', 'apple', 'mango', 'pinapple', 'banana'}\n"
     ]
    }
   ],
   "source": [
    "s = {\"apple\",\"banana\",\"grapes\",\"pinapple\"}\n",
    "s.update([\"mango\",\"chicku\"])\n",
    "print(s)"
   ]
  },
  {
   "cell_type": "code",
   "execution_count": 34,
   "metadata": {},
   "outputs": [
    {
     "name": "stdout",
     "output_type": "stream",
     "text": [
      "4\n"
     ]
    }
   ],
   "source": [
    "s = {\"apple\",\"banana\",\"grapes\",\"pinapple\"}\n",
    "print(len(s))"
   ]
  },
  {
   "cell_type": "code",
   "execution_count": 37,
   "metadata": {},
   "outputs": [
    {
     "name": "stdout",
     "output_type": "stream",
     "text": [
      "{'grapes', 'chicku', 'mango', 'pinapple', 'banana'}\n"
     ]
    }
   ],
   "source": [
    "s = {'grapes', 'chicku', 'apple', 'mango', 'pinapple', 'banana'}\n",
    "s.remove(\"apple\")\n",
    "print(s)"
   ]
  },
  {
   "cell_type": "code",
   "execution_count": 40,
   "metadata": {},
   "outputs": [
    {
     "data": {
      "text/plain": [
       "{'apple', 'banana', 'chicku', 'mango', 'pinapple'}"
      ]
     },
     "execution_count": 40,
     "metadata": {},
     "output_type": "execute_result"
    }
   ],
   "source": [
    "s = {'grapes', 'chicku', 'apple', 'mango', 'pinapple', 'banana'}\n",
    "s.pop()\n",
    "s"
   ]
  },
  {
   "cell_type": "code",
   "execution_count": 42,
   "metadata": {},
   "outputs": [
    {
     "data": {
      "text/plain": [
       "{1, 2, 4, 5, 6, 'a', 'c', 'd', 'e'}"
      ]
     },
     "execution_count": 42,
     "metadata": {},
     "output_type": "execute_result"
    }
   ],
   "source": [
    "s1= {\"a\",\"c\",\"d\",\"e\"}\n",
    "s2={1,2,6,4,5}\n",
    "\n",
    "s3=s1.union(s2)\n",
    "s3"
   ]
  },
  {
   "cell_type": "code",
   "execution_count": 43,
   "metadata": {},
   "outputs": [
    {
     "name": "stdout",
     "output_type": "stream",
     "text": [
      "{'grapes', 'chicku', 'apple', 'mango', 'pinapple', 'banana'}\n"
     ]
    }
   ],
   "source": [
    "k = set(('grapes', 'chicku', 'apple', 'mango', 'pinapple', 'banana'))\n",
    "print(k)"
   ]
  },
  {
   "cell_type": "markdown",
   "metadata": {},
   "source": [
    "__Question 4:__\n",
    "\n",
    "Given a list of n-1 numbers ranging from 1 to n, your task is to find the missing number. There are no duplicates.\n",
    "Input Format:\n",
    "The first line contains n-1 numbers with each number separated by a space.\n",
    "Output Format:\n",
    "Print the missing number\n",
    "Example:\n",
    "Input:1 2 4 6 3 7 8\n",
    "Output:5\n",
    "Explanation:\n",
    "In the above list of numbers 5 is missing and hence 5 is the input\n"
   ]
  },
  {
   "cell_type": "code",
   "execution_count": 32,
   "metadata": {},
   "outputs": [
    {
     "name": "stdout",
     "output_type": "stream",
     "text": [
      "Length of list 8\n",
      "Total =  45.0\n",
      "Sum =  38\n",
      "Missing no. =  7.0\n"
     ]
    }
   ],
   "source": [
    "def missing_no(A):\n",
    "    n=len(A)\n",
    "    print(\"Length of list\",n)\n",
    "    total= (n+1)*(n+2)/2\n",
    "    print(\"Total = \",total)\n",
    "    sum_ = sum(A)\n",
    "    print(\"Sum = \",sum_)\n",
    "    X = total - sum_\n",
    "    print(\"Missing no. = \",X)\n",
    "    \n",
    "A= [1,2,3,4,6,5,8,9]\n",
    "miss = missing_no(A)\n"
   ]
  },
  {
   "cell_type": "markdown",
   "metadata": {},
   "source": [
    "__Question 5:__\n",
    "\n",
    "With a given list L, write a program to print this list L after removing all duplicate values with original order reserved.\n",
    "Example:\n",
    "If the input list is\n",
    "12 24 35 24 88 120 155 88 120 155\n",
    "Then the output should be\n",
    "12 24 35 88 120 155\n"
   ]
  },
  {
   "cell_type": "code",
   "execution_count": null,
   "metadata": {},
   "outputs": [],
   "source": []
  },
  {
   "cell_type": "code",
   "execution_count": 35,
   "metadata": {},
   "outputs": [
    {
     "data": {
      "text/plain": [
       "[12, 24, 35, 88, 120, 155]"
      ]
     },
     "execution_count": 35,
     "metadata": {},
     "output_type": "execute_result"
    }
   ],
   "source": [
    "def remove(L):\n",
    "    final = []\n",
    "    for num in L:\n",
    "        if num not in final:\n",
    "            final.append(num)\n",
    "    return final\n",
    "\n",
    "L = [12,24,35,24,88,120,155,88,120,155]\n",
    "remove(L)"
   ]
  },
  {
   "cell_type": "code",
   "execution_count": null,
   "metadata": {},
   "outputs": [],
   "source": []
  }
 ],
 "metadata": {
  "kernelspec": {
   "display_name": "Python 3",
   "language": "python",
   "name": "python3"
  },
  "language_info": {
   "codemirror_mode": {
    "name": "ipython",
    "version": 3
   },
   "file_extension": ".py",
   "mimetype": "text/x-python",
   "name": "python",
   "nbconvert_exporter": "python",
   "pygments_lexer": "ipython3",
   "version": "3.7.6"
  }
 },
 "nbformat": 4,
 "nbformat_minor": 4
}
